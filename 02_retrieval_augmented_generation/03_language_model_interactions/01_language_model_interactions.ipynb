{
 "cells": [
  {
   "cell_type": "markdown",
   "id": "c68962e1-a33e-43f0-bd57-64e23620aba9",
   "metadata": {},
   "source": [
    "![Generating Embeddings](../../images/headings/02_retrieval_augmented_generation_03_01_language_model_interactions.png)"
   ]
  },
  {
   "cell_type": "markdown",
   "id": "f7d7ad96",
   "metadata": {},
   "source": [
    "## Configure chat models"
   ]
  },
  {
   "cell_type": "code",
   "execution_count": null,
   "id": "50bbbbce",
   "metadata": {},
   "outputs": [],
   "source": [
    "from langchain_core.messages import SystemMessage, HumanMessage\n",
    "from langchain_aws.chat_models import ChatBedrock\n",
    "from langchain_openai import AzureChatOpenAI\n",
    "import os"
   ]
  },
  {
   "cell_type": "code",
   "execution_count": null,
   "id": "d566c256",
   "metadata": {},
   "outputs": [],
   "source": [
    "gpt4 = AzureChatOpenAI(azure_deployment=os.getenv('AZURE_OPENAI_DEPLOYMENT'))\n",
    "sonnet = ChatBedrock(model_id='anthropic.claude-3-sonnet-20240229-v1:0')\n",
    "\n",
    "gpt4.name = 'GPT-4'\n",
    "sonnet.name = 'Claude Sonnet v3'"
   ]
  },
  {
   "cell_type": "markdown",
   "id": "41ab44d7",
   "metadata": {},
   "source": [
    "## Invoking a chat request with a user prompts"
   ]
  },
  {
   "cell_type": "markdown",
   "id": "65d2495c-fa91-432c-bde3-de08bee995a3",
   "metadata": {},
   "source": [
    "### Choose which model to use"
   ]
  },
  {
   "cell_type": "code",
   "execution_count": null,
   "id": "3775a03a-c15e-44af-a083-c48a2faf5787",
   "metadata": {},
   "outputs": [],
   "source": [
    "model = gpt4"
   ]
  },
  {
   "cell_type": "code",
   "execution_count": null,
   "id": "136e1144",
   "metadata": {},
   "outputs": [],
   "source": [
    "user_prompt = HumanMessage(content=\"Translate this sentence from English to French: Let's have a great workshop today!\")\n",
    "response = model.invoke([user_prompt])\n",
    "\n",
    "print(response.content)"
   ]
  },
  {
   "cell_type": "markdown",
   "id": "600f3523",
   "metadata": {},
   "source": [
    "## Invoking a chat request with system and user prompts"
   ]
  },
  {
   "cell_type": "code",
   "execution_count": null,
   "id": "e7c9ee41",
   "metadata": {},
   "outputs": [],
   "source": [
    "from langchain_core.prompts import (\n",
    "    ChatPromptTemplate,\n",
    "    HumanMessagePromptTemplate\n",
    ")"
   ]
  },
  {
   "cell_type": "code",
   "execution_count": null,
   "id": "b435e1e3",
   "metadata": {},
   "outputs": [],
   "source": [
    "chat_template = ChatPromptTemplate.from_messages(\n",
    "    [\n",
    "        SystemMessage(\n",
    "            content=(\n",
    "                \"Translate sentences from English to French.\"\n",
    "            )\n",
    "        ),\n",
    "        HumanMessagePromptTemplate.from_template(\"{text}\"),\n",
    "    ]\n",
    ")"
   ]
  },
  {
   "cell_type": "code",
   "execution_count": null,
   "id": "7d73b1b3",
   "metadata": {},
   "outputs": [],
   "source": [
    "chat_val = chat_template.invoke({\"text\": \"Let's have a great workshop today!\"})\n",
    "print(chat_val.to_messages())"
   ]
  },
  {
   "cell_type": "code",
   "execution_count": null,
   "id": "23c7e789",
   "metadata": {},
   "outputs": [],
   "source": [
    "response = model.invoke(chat_val.to_messages())"
   ]
  },
  {
   "cell_type": "code",
   "execution_count": null,
   "id": "54285995",
   "metadata": {},
   "outputs": [],
   "source": [
    "print(response.content)"
   ]
  },
  {
   "cell_type": "markdown",
   "id": "31f17cf1",
   "metadata": {},
   "source": [
    "## Discussion Questions\n",
    "\n",
    "- What do you notice about the differences between user prompts and system prompts?\n",
    "- How could you take advantage of system prompts in a generative AI application?"
   ]
  }
 ],
 "metadata": {
  "kernelspec": {
   "display_name": "Python 3 (ipykernel)",
   "language": "python",
   "name": "python3"
  },
  "language_info": {
   "codemirror_mode": {
    "name": "ipython",
    "version": 3
   },
   "file_extension": ".py",
   "mimetype": "text/x-python",
   "name": "python",
   "nbconvert_exporter": "python",
   "pygments_lexer": "ipython3",
   "version": "3.10.10"
  }
 },
 "nbformat": 4,
 "nbformat_minor": 5
}
