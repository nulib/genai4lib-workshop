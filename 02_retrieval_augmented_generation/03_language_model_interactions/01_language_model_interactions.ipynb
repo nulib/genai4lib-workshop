{
 "cells": [
  {
   "cell_type": "markdown",
   "id": "f7d7ad96",
   "metadata": {},
   "source": [
    "## Configure the chat model"
   ]
  },
  {
   "cell_type": "code",
   "execution_count": 2,
   "id": "f1c6c067",
   "metadata": {},
   "outputs": [
    {
     "data": {
      "text/plain": [
       "True"
      ]
     },
     "execution_count": 2,
     "metadata": {},
     "output_type": "execute_result"
    }
   ],
   "source": [
    "import os\n",
    "from dotenv import load_dotenv\n",
    "\n",
    "load_dotenv(\"../../.env\")"
   ]
  },
  {
   "cell_type": "code",
   "execution_count": 3,
   "id": "50bbbbce",
   "metadata": {},
   "outputs": [],
   "source": [
    "from langchain_core.messages import SystemMessage, HumanMessage\n",
    "from langchain_openai import AzureChatOpenAI"
   ]
  },
  {
   "cell_type": "code",
   "execution_count": 4,
   "id": "d566c256",
   "metadata": {},
   "outputs": [],
   "source": [
    "model = AzureChatOpenAI(azure_deployment=os.getenv(\"AZURE_OPENAI_DEPLOYMENT\"))"
   ]
  },
  {
   "cell_type": "markdown",
   "id": "41ab44d7",
   "metadata": {},
   "source": [
    "## Invoking a chat request with a user prompts"
   ]
  },
  {
   "cell_type": "code",
   "execution_count": 5,
   "id": "136e1144",
   "metadata": {},
   "outputs": [
    {
     "name": "stderr",
     "output_type": "stream",
     "text": [
      "/Users/brendan/miniconda3/envs/bertopic/lib/python3.10/site-packages/langchain_core/_api/deprecation.py:119: LangChainDeprecationWarning: The method `BaseChatModel.__call__` was deprecated in langchain-core 0.1.7 and will be removed in 0.2.0. Use invoke instead.\n",
      "  warn_deprecated(\n"
     ]
    },
    {
     "name": "stdout",
     "output_type": "stream",
     "text": [
      "Organisons un excellent atelier aujourd'hui !\n"
     ]
    }
   ],
   "source": [
    "user_prompt = HumanMessage(content=\"Translate this sentence from English to French: Let's have a great workshop today!\")\n",
    "response = model([user_prompt])\n",
    "\n",
    "print(response.content)"
   ]
  },
  {
   "cell_type": "markdown",
   "id": "600f3523",
   "metadata": {},
   "source": [
    "## Invoking a chat request with system and user prompts"
   ]
  },
  {
   "cell_type": "code",
   "execution_count": 6,
   "id": "e7c9ee41",
   "metadata": {},
   "outputs": [],
   "source": [
    "from langchain_core.prompts import (\n",
    "    ChatPromptTemplate,\n",
    "    HumanMessagePromptTemplate\n",
    ")"
   ]
  },
  {
   "cell_type": "code",
   "execution_count": 7,
   "id": "b435e1e3",
   "metadata": {},
   "outputs": [],
   "source": [
    "chat_template = ChatPromptTemplate.from_messages(\n",
    "    [\n",
    "        SystemMessage(\n",
    "            content=(\n",
    "                \"Translate sentences from English to French.\"\n",
    "            )\n",
    "        ),\n",
    "        HumanMessagePromptTemplate.from_template(\"{text}\"),\n",
    "    ]\n",
    ")"
   ]
  },
  {
   "cell_type": "code",
   "execution_count": 8,
   "id": "7d73b1b3",
   "metadata": {},
   "outputs": [
    {
     "name": "stdout",
     "output_type": "stream",
     "text": [
      "[SystemMessage(content='Translate sentences from English to French.'), HumanMessage(content=\"Let's have a great workshop today!\")]\n"
     ]
    }
   ],
   "source": [
    "chat_val = chat_template.invoke({\"text\": \"Let's have a great workshop today!\"})\n",
    "print(chat_val.to_messages())"
   ]
  },
  {
   "cell_type": "code",
   "execution_count": 9,
   "id": "23c7e789",
   "metadata": {},
   "outputs": [],
   "source": [
    "response = model.invoke(chat_val.to_messages())"
   ]
  },
  {
   "cell_type": "code",
   "execution_count": 10,
   "id": "54285995",
   "metadata": {},
   "outputs": [
    {
     "name": "stdout",
     "output_type": "stream",
     "text": [
      "Organisons un super atelier aujourd'hui !\n"
     ]
    }
   ],
   "source": [
    "print(response.content)"
   ]
  },
  {
   "cell_type": "markdown",
   "id": "31f17cf1",
   "metadata": {},
   "source": [
    "## Discussion Questions\n",
    "\n",
    "- What do you notice about the differences between user prompts and system prompts?\n",
    "- How could you take advantage of system prompts in a generative AI application?"
   ]
  }
 ],
 "metadata": {
  "kernelspec": {
   "display_name": "Python 3 (ipykernel)",
   "language": "python",
   "name": "python3"
  },
  "language_info": {
   "codemirror_mode": {
    "name": "ipython",
    "version": 3
   },
   "file_extension": ".py",
   "mimetype": "text/x-python",
   "name": "python",
   "nbconvert_exporter": "python",
   "pygments_lexer": "ipython3",
   "version": "3.10.14"
  }
 },
 "nbformat": 4,
 "nbformat_minor": 5
}
