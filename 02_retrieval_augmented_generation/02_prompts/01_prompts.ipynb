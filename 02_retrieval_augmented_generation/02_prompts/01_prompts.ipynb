{
 "cells": [
  {
   "cell_type": "markdown",
   "id": "4a7baea3",
   "metadata": {},
   "source": [
    "# Prompts: Langchain\n",
    "\n",
    "This notebook demonstrates how to use `PromptTemplate` from the `langchain_core` package. `PromptTemplate` tooling allows you to pre-design the form and content of text-based instructions sent to Language Models (LMs) during inference."
   ]
  },
  {
   "cell_type": "markdown",
   "id": "0a2e79a1",
   "metadata": {},
   "source": [
    "## Definitions"
   ]
  },
  {
   "cell_type": "markdown",
   "id": "4b940df9",
   "metadata": {},
   "source": [
    "### OpenAI messages"
   ]
  },
  {
   "cell_type": "markdown",
   "id": "19f00728",
   "metadata": {},
   "source": [
    "**OpenAI conversations**\n",
    "_definitions modified from: https://cdn.openai.com/spec/model-spec-2024-05-08.html_\n",
    "\n",
    "**Assistant:** the entity that the end user or developer interacts with. While language models can generate text continuations of any input, the models we're using today have been fine-tuned on inputs formatted as conversations, consisting of a list of messages. In these conversations, the model is only designed to play one participant, called the assistant. In this document, when we discuss model behavior, we're referring to its behavior as the assistant; \"model\" and \"assistant\" will be approximately synonymous.\n",
    "\n",
    "**Conversation:** valid input to the model is a conversation, which consists of a list of messages.\n",
    "\n",
    "Example message:\n",
    "```json\n",
    "{\n",
    "    \"role\": \"assistant\",\n",
    "    \"recipient\": \"browser\",\n",
    "    \"content\": \"assist the user\",\n",
    "    \"end_turn\": true,\n",
    "}\n",
    "```"
   ]
  },
  {
   "cell_type": "markdown",
   "id": "a8ff7ca1",
   "metadata": {},
   "source": [
    "### A brief note about tokens\n",
    "\n",
    "When you send the message to the LM, the request becomes a single string jammed with special tokens like so:\n",
    "```\n",
    "<|start|>assistant<|recipient|>browser<|content|>assist the user<|end_turn|>\n",
    "```\n",
    "\n",
    "where `<|...|>` denotes a special token."
   ]
  },
  {
   "cell_type": "markdown",
   "id": "5e7dc3f3",
   "metadata": {},
   "source": [
    "### Claude conversations\n",
    "\n",
    "_see https://docs.anthropic.com/claude/reference/messages_post for more information_\n",
    "\n",
    "Example conversation:\n",
    "```json\n",
    "{\n",
    "    \"model\": \"claude-3-opus-20240229\",\n",
    "    \"max_tokens\": 1024,\n",
    "    \"system\": \"You are a helpful assistant...\",\n",
    "    \"messages\": [\n",
    "        {\"role\": \"user\", \"content\": \"Hello, world\"}\n",
    "    ]\n",
    "}\n",
    "```"
   ]
  },
  {
   "cell_type": "markdown",
   "id": "3460a85b",
   "metadata": {},
   "source": [
    "## Prompts"
   ]
  },
  {
   "cell_type": "code",
   "execution_count": 1,
   "id": "2e31835d",
   "metadata": {},
   "outputs": [],
   "source": [
    "from langchain_core.prompts import PromptTemplate"
   ]
  },
  {
   "cell_type": "code",
   "execution_count": 2,
   "id": "87404894",
   "metadata": {},
   "outputs": [
    {
     "data": {
      "text/plain": [
       "'Brendan wants to hear a joke about: \"stage fright\".'"
      ]
     },
     "execution_count": 2,
     "metadata": {},
     "output_type": "execute_result"
    }
   ],
   "source": [
    "prompt_template = PromptTemplate.from_template(\n",
    "    \"{user} wants to hear a joke about: \\\"{content}\\\".\"\n",
    ")\n",
    "prompt_template.format(user=\"Brendan\", content=\"stage fright\")"
   ]
  },
  {
   "cell_type": "code",
   "execution_count": 3,
   "id": "1edef879",
   "metadata": {},
   "outputs": [
    {
     "data": {
      "text/plain": [
       "'Tell me about your favorite library.'"
      ]
     },
     "execution_count": 3,
     "metadata": {},
     "output_type": "execute_result"
    }
   ],
   "source": [
    "# You don't need to use variables, this works just fine too:\n",
    "prompt_template = PromptTemplate.from_template(\n",
    "    \"Tell me about your favorite library.\"\n",
    ")\n",
    "prompt_template.format()"
   ]
  },
  {
   "cell_type": "code",
   "execution_count": 4,
   "id": "b6333ecc",
   "metadata": {},
   "outputs": [],
   "source": [
    "from langchain_core.prompts import (\n",
    "    ChatPromptTemplate,\n",
    "    HumanMessagePromptTemplate\n",
    ")\n",
    "from langchain_core.messages import SystemMessage, HumanMessage\n",
    "\n",
    "chat_template = ChatPromptTemplate.from_messages(\n",
    "    [\n",
    "        SystemMessage(\n",
    "            content=(\n",
    "                \"You are a helpful assistant that provides information about \"\n",
    "                \"library services and facilitates access to library resources.\"\n",
    "            )\n",
    "        ),\n",
    "        HumanMessagePromptTemplate.from_template(\"{text}\"),\n",
    "    ]\n",
    ")\n",
    "\n",
    "chat_val = chat_template.invoke({\"text\": \"How can I request books from other libraries besides this one?\"})"
   ]
  },
  {
   "cell_type": "code",
   "execution_count": 5,
   "id": "c48b39fb",
   "metadata": {},
   "outputs": [
    {
     "data": {
      "text/plain": [
       "[SystemMessage(content='You are a helpful assistant that provides information about library services and facilitates access to library resources.'),\n",
       " HumanMessage(content='How can I request books from other libraries besides this one?')]"
      ]
     },
     "execution_count": 5,
     "metadata": {},
     "output_type": "execute_result"
    }
   ],
   "source": [
    "chat_val.to_messages()"
   ]
  },
  {
   "cell_type": "code",
   "execution_count": 6,
   "id": "274c46e7",
   "metadata": {},
   "outputs": [
    {
     "data": {
      "text/plain": [
       "'System: You are a helpful assistant that provides information about library services and facilitates access to library resources.\\nHuman: How can I request books from other libraries besides this one?'"
      ]
     },
     "execution_count": 6,
     "metadata": {},
     "output_type": "execute_result"
    }
   ],
   "source": [
    "chat_val.to_string()"
   ]
  },
  {
   "cell_type": "markdown",
   "id": "277a9f16",
   "metadata": {},
   "source": [
    "## Advanced Prompting"
   ]
  },
  {
   "cell_type": "code",
   "execution_count": 7,
   "id": "e37a7cd3",
   "metadata": {},
   "outputs": [],
   "source": [
    "from typing import List, Optional\n",
    "\n",
    "\n",
    "def prompt_template() -> str:\n",
    "    return \"\"\"Please provide an answer to the question based on the documents provided. Include specific details from the documents that support your answer. Each document is identified by a 'title' and a unique 'source' UUID:\n",
    "\n",
    "Documents:\n",
    "{context}\n",
    "Answer in raw markdown. When referencing a document by title, link to it using its UUID like this: [title](https://dc.library.northwestern.edu/items/UUID). For example: [Judy Collins, Jackson Hole Folk Festival](https://dc.library.northwestern.edu/items/f1ca513b-7d13-4af6-ad7b-8c7ffd1d3a37). Suggest keyword searches using this format: [keyword](https://dc.library.northwestern.edu/search?q=keyword). Offer a variety of search terms that cover different aspects of the topic. Include as many direct links to Digital Collections searches as necessary for a thorough study. The `collection` field contains information about the collection the document belongs to. In the summary, mention the top 1 or 2 collections, explain why they are relevant and link to them using the collection title and id: [collection['title']](https://dc.library.northwestern.edu/collections/collection['id']), for example [World War II Poster Collection](https://dc.library.northwestern.edu/collections/faf4f60e-78e0-4fbf-96ce-4ca8b4df597a):\n",
    "\n",
    "Question:\n",
    "{question}\n",
    "\"\"\"\n",
    "\n",
    "\n",
    "def document_template(attributes: Optional[List[str]] = None) -> str:\n",
    "    if attributes is None:\n",
    "        attributes = []\n",
    "    lines = (\n",
    "        [\"Content: {title}\", \"Metadata:\"]\n",
    "        + [f\"  {attribute}: {{{attribute}}}\" for attribute in attributes]\n",
    "        + [\"Source: {id}\"]\n",
    "    )\n",
    "    return \"\\n\".join(lines)"
   ]
  },
  {
   "cell_type": "code",
   "execution_count": 8,
   "id": "c9a0bfbd",
   "metadata": {},
   "outputs": [
    {
     "name": "stdout",
     "output_type": "stream",
     "text": [
      "Content: {title}\n",
      "Metadata:\n",
      "  collection: {collection}\n",
      "  date: {date}\n",
      "  description: {description}\n",
      "  format: {format}\n",
      "  language: {language}\n",
      "  rights: {rights}\n",
      "  subject: {subject}\n",
      "  type: {type}\n",
      "Source: {id}\n"
     ]
    }
   ],
   "source": [
    "context = document_template(attributes=[\"collection\", \"date\", \"description\", \"format\", \"language\", \"rights\", \"subject\", \"type\"])\n",
    "print(context)"
   ]
  },
  {
   "cell_type": "code",
   "execution_count": 9,
   "id": "0282556f",
   "metadata": {},
   "outputs": [
    {
     "name": "stdout",
     "output_type": "stream",
     "text": [
      "Please provide an answer to the question based on the documents provided. Include specific details from the documents that support your answer. Each document is identified by a 'title' and a unique 'source' UUID:\n",
      "\n",
      "Documents:\n",
      "{context}\n",
      "Answer in raw markdown. When referencing a document by title, link to it using its UUID like this: [title](https://dc.library.northwestern.edu/items/UUID). For example: [Judy Collins, Jackson Hole Folk Festival](https://dc.library.northwestern.edu/items/f1ca513b-7d13-4af6-ad7b-8c7ffd1d3a37). Suggest keyword searches using this format: [keyword](https://dc.library.northwestern.edu/search?q=keyword). Offer a variety of search terms that cover different aspects of the topic. Include as many direct links to Digital Collections searches as necessary for a thorough study. The `collection` field contains information about the collection the document belongs to. In the summary, mention the top 1 or 2 collections, explain why they are relevant and link to them using the collection title and id: [collection['title']](https://dc.library.northwestern.edu/collections/collection['id']), for example [World War II Poster Collection](https://dc.library.northwestern.edu/collections/faf4f60e-78e0-4fbf-96ce-4ca8b4df597a):\n",
      "\n",
      "Question:\n",
      "{question}\n",
      "\n"
     ]
    }
   ],
   "source": [
    "print(prompt_template())"
   ]
  }
 ],
 "metadata": {
  "kernelspec": {
   "display_name": "Python 3 (ipykernel)",
   "language": "python",
   "name": "python3"
  },
  "language_info": {
   "codemirror_mode": {
    "name": "ipython",
    "version": 3
   },
   "file_extension": ".py",
   "mimetype": "text/x-python",
   "name": "python",
   "nbconvert_exporter": "python",
   "pygments_lexer": "ipython3",
   "version": "3.10.14"
  }
 },
 "nbformat": 4,
 "nbformat_minor": 5
}
