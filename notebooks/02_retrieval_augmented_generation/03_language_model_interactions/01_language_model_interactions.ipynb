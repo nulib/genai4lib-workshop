{
 "cells": [
  {
   "cell_type": "markdown",
   "id": "c68962e1-a33e-43f0-bd57-64e23620aba9",
   "metadata": {},
   "source": [
    "![Generating Embeddings](../../images/headings/02_retrieval_augmented_generation_03_01_language_model_interactions.png)"
   ]
  },
  {
   "cell_type": "markdown",
   "id": "f7d7ad96",
   "metadata": {},
   "source": [
    "## Configure chat models"
   ]
  },
  {
   "cell_type": "code",
   "execution_count": null,
   "id": "50bbbbce",
   "metadata": {},
   "outputs": [],
   "source": [
    "from langchain_core.messages import SystemMessage, HumanMessage\n",
    "from langchain_openai.chat_models import ChatOpenAI\n",
    "import os"
   ]
  },
  {
   "cell_type": "code",
   "execution_count": null,
   "id": "71178ea7",
   "metadata": {},
   "outputs": [],
   "source": [
    "model = ChatOpenAI(\n",
    "    openai_api_key=os.getenv('OPENAI_API_KEY')\n",
    ")"
   ]
  },
  {
   "cell_type": "markdown",
   "id": "41ab44d7",
   "metadata": {},
   "source": [
    "## Invoking a chat request with a user prompts"
   ]
  },
  {
   "cell_type": "code",
   "execution_count": null,
   "id": "136e1144",
   "metadata": {},
   "outputs": [],
   "source": [
    "user_prompt = HumanMessage(content=\"Translate this sentence from English to French: Let's have a great workshop today!\")\n",
    "response = model.invoke([user_prompt])\n",
    "\n",
    "print(response.content)"
   ]
  },
  {
   "cell_type": "code",
   "execution_count": null,
   "id": "a910931a-3bfa-4fba-9d87-943ccb3a691b",
   "metadata": {},
   "outputs": [],
   "source": [
    "response"
   ]
  },
  {
   "cell_type": "markdown",
   "id": "600f3523",
   "metadata": {},
   "source": [
    "## Invoking a chat request with system and user prompts"
   ]
  },
  {
   "cell_type": "code",
   "execution_count": null,
   "id": "e7c9ee41",
   "metadata": {},
   "outputs": [],
   "source": [
    "from langchain_core.prompts import (\n",
    "    ChatPromptTemplate,\n",
    "    HumanMessagePromptTemplate\n",
    ")"
   ]
  },
  {
   "cell_type": "code",
   "execution_count": null,
   "id": "b435e1e3",
   "metadata": {},
   "outputs": [],
   "source": [
    "chat_template = ChatPromptTemplate.from_messages(\n",
    "    [\n",
    "        SystemMessage(\n",
    "            content=(\n",
    "                \"Translate sentences from English to French.\"\n",
    "            )\n",
    "        ),\n",
    "        HumanMessagePromptTemplate.from_template(\"{text}\"),\n",
    "    ]\n",
    ")"
   ]
  },
  {
   "cell_type": "code",
   "execution_count": null,
   "id": "7d73b1b3",
   "metadata": {},
   "outputs": [],
   "source": [
    "chat_val = chat_template.invoke({\"text\": \"Let's have a great workshop today!\"})\n",
    "print(chat_val.to_messages())"
   ]
  },
  {
   "cell_type": "code",
   "execution_count": null,
   "id": "23c7e789",
   "metadata": {},
   "outputs": [],
   "source": [
    "response = model.invoke(chat_val.to_messages())"
   ]
  },
  {
   "cell_type": "code",
   "execution_count": null,
   "id": "54285995",
   "metadata": {},
   "outputs": [],
   "source": [
    "print(response.content)"
   ]
  },
  {
   "cell_type": "markdown",
   "id": "1899afce-854c-42fc-abd2-95a68b0e77ee",
   "metadata": {},
   "source": [
    "## Exercises"
   ]
  },
  {
   "cell_type": "markdown",
   "id": "6e8f1196-8036-4fdb-8125-a3e531573678",
   "metadata": {},
   "source": [
    "- Guide the language model's behavior by instructing the model within the user's message (tell the model to behave in a certain way while you're asking a question)\n",
    "- Guide the language model's behavior by modifying the system prompt"
   ]
  },
  {
   "cell_type": "markdown",
   "id": "31f17cf1",
   "metadata": {},
   "source": [
    "## Discussion Questions"
   ]
  },
  {
   "cell_type": "markdown",
   "id": "ac7c382f-dc9c-425b-957d-6072e2f8ebce",
   "metadata": {},
   "source": [
    "- Should system prompts be \"public\" information?\n",
    "- What do you notice about the differences between user prompts and system prompts? What are their relative strengths and weaknesses?\n",
    "- How would you take advantage of system prompts in a generative AI application at your institution?"
   ]
  }
 ],
 "metadata": {
  "kernelspec": {
   "display_name": "Python 3 (ipykernel)",
   "language": "python",
   "name": "python3"
  },
  "language_info": {
   "codemirror_mode": {
    "name": "ipython",
    "version": 3
   },
   "file_extension": ".py",
   "mimetype": "text/x-python",
   "name": "python",
   "nbconvert_exporter": "python",
   "pygments_lexer": "ipython3",
   "version": "3.12.3"
  }
 },
 "nbformat": 4,
 "nbformat_minor": 5
}
