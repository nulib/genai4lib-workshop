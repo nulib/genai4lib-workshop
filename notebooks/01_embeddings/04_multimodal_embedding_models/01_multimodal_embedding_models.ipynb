{
 "cells": [
  {
   "cell_type": "markdown",
   "metadata": {
    "editable": true,
    "slideshow": {
     "slide_type": ""
    },
    "tags": []
   },
   "source": [
    "# Multimodal Embedding Models"
   ]
  },
  {
   "cell_type": "markdown",
   "metadata": {},
   "source": [
    "## Setup"
   ]
  },
  {
   "cell_type": "markdown",
   "metadata": {},
   "source": [
    "### Define a multimodal embedding model"
   ]
  },
  {
   "cell_type": "code",
   "execution_count": null,
   "metadata": {},
   "outputs": [],
   "source": [
    "from PIL import Image\n",
    "from transformers import AutoProcessor, AutoTokenizer, CLIPModel\n",
    "from typing import List\n",
    "\n",
    "model_name = \"openai/clip-vit-large-patch14\"\n",
    "model = CLIPModel.from_pretrained(model_name)\n",
    "tokenizer = AutoTokenizer.from_pretrained(model_name)\n",
    "processor = AutoProcessor.from_pretrained(model_name)"
   ]
  },
  {
   "cell_type": "code",
   "execution_count": null,
   "metadata": {},
   "outputs": [],
   "source": [
    "def get_image_embedding(img: Image) -> List[float]:\n",
    "    inputs = processor(images=img, return_tensors=\"pt\")\n",
    "    return model.get_image_features(**inputs)[0]\n",
    "\n",
    "def get_text_embeddings(texts: List[str]) -> List[List[float]]:\n",
    "    inputs = tokenizer(texts, padding=True, return_tensors=\"pt\")\n",
    "    return model.get_text_features(**inputs)"
   ]
  },
  {
   "cell_type": "markdown",
   "metadata": {},
   "source": [
    "## Generate embeddings\n",
    "\n",
    "### Generate an embedding from a sample image"
   ]
  },
  {
   "cell_type": "code",
   "execution_count": null,
   "metadata": {},
   "outputs": [],
   "source": [
    "file_path = \"../../images/coffee.png\"\n",
    "img = Image.open(file_path).convert('RGB').resize((200,200))\n",
    "image_embedding = get_image_embedding(img)\n",
    "img"
   ]
  },
  {
   "cell_type": "markdown",
   "metadata": {},
   "source": [
    "### Generate embeddings from text strings"
   ]
  },
  {
   "cell_type": "code",
   "execution_count": null,
   "metadata": {},
   "outputs": [],
   "source": [
    "texts = [\n",
    "  \"a cup of black coffee\",\n",
    "  \"a laptop computer\",\n",
    "  \"a caffe latte\",\n",
    "  \"a caffe latte on a plate in front of a laptop\",\n",
    "  \"a laptop showing code\",\n",
    "  \"a laptop showing a movie\",\n",
    "  \"a laptop on a wooden table\",\n",
    "  \"a laptop on an airplane tray table\",\n",
    "  \"Godzilla riding a roller coaster\"\n",
    "]\n",
    "text_embeddings = get_text_embeddings(texts)"
   ]
  },
  {
   "cell_type": "markdown",
   "metadata": {},
   "source": [
    "## Comparing image and text embeddings"
   ]
  },
  {
   "cell_type": "code",
   "execution_count": null,
   "metadata": {},
   "outputs": [],
   "source": [
    "from langchain_community.utils.math import cosine_similarity\n",
    "\n",
    "image_vector = image_embedding.detach().numpy()\n",
    "text_vectors = [tensor.detach().numpy() for tensor in text_embeddings]\n",
    "results = [\n",
    "    { 'text': text, 'similarity': cosine_similarity([image_vector], [text_vectors[index]])[0][0] }\n",
    "    for index, text in enumerate(texts)\n",
    "]"
   ]
  },
  {
   "cell_type": "markdown",
   "metadata": {},
   "source": [
    "### Sort results with higher similarity first"
   ]
  },
  {
   "cell_type": "code",
   "execution_count": null,
   "metadata": {},
   "outputs": [],
   "source": [
    "results.sort(key=lambda x: x['similarity'], reverse=True)"
   ]
  },
  {
   "cell_type": "code",
   "execution_count": null,
   "metadata": {},
   "outputs": [],
   "source": [
    "for result in results:\n",
    "    print(f'Similarity between image and \"{result[\"text\"]}\": {result[\"similarity\"]}')"
   ]
  },
  {
   "cell_type": "markdown",
   "metadata": {},
   "source": [
    "## Exercises"
   ]
  },
  {
   "cell_type": "markdown",
   "metadata": {},
   "source": [
    "- Take what you've learned from `embeddings/01_comparing_embeddings` and experiment with comparing embeddings of images and/or text inputs."
   ]
  },
  {
   "cell_type": "markdown",
   "metadata": {},
   "source": [
    "### Discussion Questions"
   ]
  },
  {
   "cell_type": "markdown",
   "metadata": {},
   "source": [
    "- Images and text \"living\" in the same semantic space is powerful! What are some of the implications for adding multimodal capability to an embedding model?\n",
    "- Search around the Internet for other modalities that people are talking about. Do any other modalities look intriguing for your collections or materials?"
   ]
  }
 ],
 "metadata": {
  "kernelspec": {
   "display_name": "Python 3 (ipykernel)",
   "language": "python",
   "name": "python3"
  },
  "language_info": {
   "codemirror_mode": {
    "name": "ipython",
    "version": 3
   },
   "file_extension": ".py",
   "mimetype": "text/x-python",
   "name": "python",
   "nbconvert_exporter": "python",
   "pygments_lexer": "ipython3",
   "version": "3.12.2"
  }
 },
 "nbformat": 4,
 "nbformat_minor": 4
}
