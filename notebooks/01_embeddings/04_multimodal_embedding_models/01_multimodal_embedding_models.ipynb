{
 "cells": [
  {
   "cell_type": "markdown",
   "metadata": {
    "editable": true,
    "slideshow": {
     "slide_type": ""
    },
    "tags": []
   },
   "source": [
    "# Multimodal Embedding Models"
   ]
  },
  {
   "cell_type": "markdown",
   "metadata": {},
   "source": [
    "## Setup"
   ]
  },
  {
   "cell_type": "markdown",
   "metadata": {},
   "source": [
    "### Define a multimodal embedding model\n",
    "\n",
    "This exercise uses a model called [**CLIP ViT-B/32 - LAION-2B**](https://huggingface.co/laion/CLIP-ViT-B-32-laion2B-s34B-b79K), a reasonably small but performant image and text classification model. To keep the code similar to previous embedding exercises, we'll access the model via the experimental Langchain bindings for [OpenCLIP](https://github.com/mlfoundations/open_clip), an open source implementation of OpenAI's CLIP neural network. There are several models and model checkpoints available. "
   ]
  },
  {
   "cell_type": "code",
   "execution_count": null,
   "metadata": {},
   "outputs": [],
   "source": [
    "from PIL import Image\n",
    "from IPython.display import display\n",
    "from langchain_experimental.open_clip import OpenCLIPEmbeddings\n",
    "\n",
    "embeddings = OpenCLIPEmbeddings(model_name=\"ViT-B-32\", checkpoint=\"laion2b_s34b_b79k\")"
   ]
  },
  {
   "cell_type": "markdown",
   "metadata": {},
   "source": [
    "## Generate embeddings\n",
    "\n",
    "### Generate an embedding from a sample image"
   ]
  },
  {
   "cell_type": "code",
   "execution_count": null,
   "metadata": {},
   "outputs": [],
   "source": [
    "file_path = \"../../images/coffee.png\"\n",
    "img = Image.open(file_path).convert('RGB').resize((256,256))\n",
    "image_embedding = embeddings.embed_image([file_path])[0]"
   ]
  },
  {
   "cell_type": "markdown",
   "metadata": {},
   "source": [
    "### Show the number of dimensions of the image embedding"
   ]
  },
  {
   "cell_type": "code",
   "execution_count": null,
   "metadata": {},
   "outputs": [],
   "source": [
    "len(image_embedding)"
   ]
  },
  {
   "cell_type": "markdown",
   "metadata": {},
   "source": [
    "### Generate embeddings from text strings"
   ]
  },
  {
   "cell_type": "code",
   "execution_count": null,
   "metadata": {},
   "outputs": [],
   "source": [
    "texts = [\n",
    "  \"cup of black coffee\",\n",
    "  \"laptop computer\",\n",
    "  \"caffe latte\",\n",
    "  \"caffe latte on a plate in front of a laptop\",\n",
    "  \"laptop showing code\",\n",
    "  \"laptop showing a movie\",\n",
    "  \"laptop on a wooden table\",\n",
    "  \"laptop on an airplane tray table\",\n",
    "  \"Godzilla riding a roller coaster\"\n",
    "]\n",
    "text_embeddings = embeddings.embed_documents(texts)"
   ]
  },
  {
   "cell_type": "markdown",
   "metadata": {},
   "source": [
    "### Show the number of dimensions of one of the text embeddings"
   ]
  },
  {
   "cell_type": "code",
   "execution_count": null,
   "metadata": {},
   "outputs": [],
   "source": [
    "len(text_embeddings[0])"
   ]
  },
  {
   "cell_type": "markdown",
   "metadata": {},
   "source": [
    "## Comparing image and text embeddings"
   ]
  },
  {
   "cell_type": "code",
   "execution_count": null,
   "metadata": {},
   "outputs": [],
   "source": [
    "from langchain_community.utils.math import cosine_similarity\n",
    "\n",
    "results = [\n",
    "    { 'text': text, 'similarity': cosine_similarity([image_embedding], [text_embeddings[index]])[0][0] }\n",
    "    for index, text in enumerate(texts)\n",
    "]"
   ]
  },
  {
   "cell_type": "markdown",
   "metadata": {},
   "source": [
    "### Sort results with higher similarity first"
   ]
  },
  {
   "cell_type": "code",
   "execution_count": null,
   "metadata": {},
   "outputs": [],
   "source": [
    "results.sort(key=lambda x: x['similarity'], reverse=True)"
   ]
  },
  {
   "cell_type": "code",
   "execution_count": null,
   "metadata": {},
   "outputs": [],
   "source": [
    "display(img)\n",
    "for result in results:\n",
    "    print(f'Similarity between image and \"{result[\"text\"]}\": {result[\"similarity\"]}')"
   ]
  },
  {
   "cell_type": "markdown",
   "metadata": {},
   "source": [
    "## Exercises"
   ]
  },
  {
   "cell_type": "markdown",
   "metadata": {},
   "source": [
    "- Take what you've learned from `embeddings/01_comparing_embeddings` and experiment with comparing embeddings of images and/or text inputs."
   ]
  },
  {
   "cell_type": "markdown",
   "metadata": {},
   "source": [
    "### Discussion Questions"
   ]
  },
  {
   "cell_type": "markdown",
   "metadata": {},
   "source": [
    "- Images and text \"living\" in the same semantic space is powerful! What are some of the implications for adding multimodal capability to an embedding model?\n",
    "- Search around the Internet for other modalities that people are talking about. Do any other modalities look intriguing for your collections or materials?"
   ]
  }
 ],
 "metadata": {
  "kernelspec": {
   "display_name": "Python 3 (ipykernel)",
   "language": "python",
   "name": "python3"
  },
  "language_info": {
   "codemirror_mode": {
    "name": "ipython",
    "version": 3
   },
   "file_extension": ".py",
   "mimetype": "text/x-python",
   "name": "python",
   "nbconvert_exporter": "python",
   "pygments_lexer": "ipython3",
   "version": "3.12.2"
  }
 },
 "nbformat": 4,
 "nbformat_minor": 4
}
