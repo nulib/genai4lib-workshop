{
 "cells": [
  {
   "cell_type": "markdown",
   "id": "c1171a09-0314-4133-85d4-971a931664ad",
   "metadata": {},
   "source": [
    "![genAI4Lib Hackathon](../images/headings/03_01_hackathon.png)"
   ]
  }
 ],
 "metadata": {
  "kernelspec": {
   "display_name": "Python 3 (ipykernel)",
   "language": "python",
   "name": "python3"
  },
  "language_info": {
   "codemirror_mode": {
    "name": "ipython",
    "version": 3
   },
   "file_extension": ".py",
   "mimetype": "text/x-python",
   "name": "python",
   "nbconvert_exporter": "python",
   "pygments_lexer": "ipython3",
   "version": "3.10.10"
  }
 },
 "nbformat": 4,
 "nbformat_minor": 5
}
