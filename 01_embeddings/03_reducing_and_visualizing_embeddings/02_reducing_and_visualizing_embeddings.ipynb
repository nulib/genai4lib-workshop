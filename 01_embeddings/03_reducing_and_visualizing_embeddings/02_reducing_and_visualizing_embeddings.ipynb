{
 "cells": [
  {
   "cell_type": "markdown",
   "id": "638fba3f-836b-4528-8ac5-676c1734289e",
   "metadata": {
    "editable": true,
    "slideshow": {
     "slide_type": ""
    },
    "tags": []
   },
   "source": [
    "![Generating Embeddings](../../images/headings/01_embeddings_03_01_reducing_and_visualizing_vectors.png)"
   ]
  },
  {
   "cell_type": "code",
   "execution_count": null,
   "id": "77ecd994-7271-49c2-a9d4-1223a856d66f",
   "metadata": {},
   "outputs": [],
   "source": []
  }
 ],
 "metadata": {
  "kernelspec": {
   "display_name": "Python 3 (ipykernel)",
   "language": "python",
   "name": "python3"
  },
  "language_info": {
   "codemirror_mode": {
    "name": "ipython",
    "version": 3
   },
   "file_extension": ".py",
   "mimetype": "text/x-python",
   "name": "python",
   "nbconvert_exporter": "python",
   "pygments_lexer": "ipython3",
   "version": "3.10.10"
  }
 },
 "nbformat": 4,
 "nbformat_minor": 5
}
