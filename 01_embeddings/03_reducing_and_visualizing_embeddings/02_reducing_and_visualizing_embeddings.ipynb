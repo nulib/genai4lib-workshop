{
 "cells": [
  {
   "cell_type": "markdown",
   "id": "638fba3f-836b-4528-8ac5-676c1734289e",
   "metadata": {
    "editable": true,
    "slideshow": {
     "slide_type": ""
    },
    "tags": []
   },
   "source": [
    "![Generating Embeddings](../../images/headings/01_embeddings_03_02_reducing_and_visualizing_embeddings.png)"
   ]
  },
  {
   "cell_type": "markdown",
   "id": "e35c344d",
   "metadata": {},
   "source": [
    "## Setup\n",
    "### Import required modules"
   ]
  },
  {
   "cell_type": "code",
   "execution_count": null,
   "id": "470bb282-29bc-4157-b066-ba02fceb2e95",
   "metadata": {},
   "outputs": [],
   "source": [
    "%matplotlib widget\n",
    "import os\n",
    "import matplotlib as mpl\n",
    "import mplcursors\n",
    "import numpy as np\n",
    "import seaborn as sns\n",
    "from sklearn.manifold import TSNE\n",
    "from matplotlib import pyplot as plt\n",
    "from PIL import Image"
   ]
  },
  {
   "cell_type": "markdown",
   "id": "f49a4b9c-69a0-4a8c-af6b-c58d3e8cf8c4",
   "metadata": {},
   "source": [
    "## Configure the embedding model"
   ]
  },
  {
   "cell_type": "code",
   "execution_count": null,
   "id": "edecb8d2-2b34-4f33-bcb8-1d9ca35b44d3",
   "metadata": {},
   "outputs": [],
   "source": [
    "from langchain_aws.embeddings import BedrockEmbeddings\n",
    "\n",
    "# The model_id parameter specifies the AWS Bedrock hosted model to use. In this case, we're going to use 'cohere.embed-english-v3'.\n",
    "emb = BedrockEmbeddings(model_id='cohere.embed-english-v3')"
   ]
  },
  {
   "cell_type": "markdown",
   "id": "3b6c4dc9-8646-4528-b6de-07f9fb8f5b7f",
   "metadata": {},
   "source": [
    "## Load the dataset"
   ]
  },
  {
   "cell_type": "code",
   "execution_count": null,
   "id": "d73ee400-af35-40c7-aad1-a20509aeb238",
   "metadata": {},
   "outputs": [],
   "source": [
    "from datasets import load_dataset\n",
    "\n",
    "dataset = load_dataset(\"TheBritishLibrary/blbooksgenre\", split=\"train\", name='annotated_raw')"
   ]
  },
  {
   "cell_type": "code",
   "execution_count": null,
   "id": "4d6e89a9-4211-47b9-a6ae-b1ae75bd89f3",
   "metadata": {},
   "outputs": [],
   "source": [
    "titles = dataset[\"Title\"]\n",
    "print(titles[:3])"
   ]
  },
  {
   "cell_type": "markdown",
   "id": "fde497ff",
   "metadata": {},
   "source": [
    "## Generate embeddings from the dataset"
   ]
  },
  {
   "cell_type": "code",
   "execution_count": null,
   "id": "f5208ecc",
   "metadata": {},
   "outputs": [],
   "source": [
    "import os\n",
    "import pickle\n",
    "\n",
    "embeddings = None\n",
    "pickle_file = 'embeddings.pkl'\n",
    "\n",
    "if os.path.exists(pickle_file):\n",
    "    try:\n",
    "        with open(pickle_file, 'rb') as f:\n",
    "            embeddings = pickle.load(f)\n",
    "    except Exception as e:\n",
    "        print(f\"Error loading embeddings from {pickle_file}: {e}\")\n",
    "\n",
    "if embeddings is None:\n",
    "    embeddings = emb.embed_documents(titles)\n",
    "    with open(pickle_file, 'wb') as f:\n",
    "        pickle.dump(embeddings, f)"
   ]
  },
  {
   "cell_type": "code",
   "execution_count": null,
   "id": "8839087f-935e-4a91-95d1-2a0a93177675",
   "metadata": {},
   "outputs": [],
   "source": [
    "print(len(embeddings))"
   ]
  },
  {
   "cell_type": "markdown",
   "id": "464e1e07",
   "metadata": {},
   "source": [
    "## Reduce the embeddings to two dimensions using t-SNE"
   ]
  },
  {
   "cell_type": "code",
   "execution_count": null,
   "id": "0def2e34",
   "metadata": {},
   "outputs": [],
   "source": [
    "## Two-Dimensional Plot\n",
    "### Reduce to two dimensions using t-SNE"
   ]
  },
  {
   "cell_type": "code",
   "execution_count": null,
   "id": "a7ba4d17",
   "metadata": {},
   "outputs": [],
   "source": [
    "import numpy as np\n",
    "from sklearn.manifold import TSNE\n",
    "\n",
    "# Ensure embeddings is a numpy array\n",
    "embeddings_array = np.array(embeddings)\n",
    "\n",
    "# Perform t-SNE\n",
    "tsne = TSNE(n_components=2, perplexity=4)\n",
    "two_d = tsne.fit_transform(embeddings_array)"
   ]
  },
  {
   "cell_type": "markdown",
   "id": "2d744298-3031-4273-a6ee-2d1811f67190",
   "metadata": {},
   "source": [
    "### Grab the annotator_genre values from the dataset"
   ]
  },
  {
   "cell_type": "code",
   "execution_count": null,
   "id": "a47ffe8f-2923-4be2-b2cf-6b050a18ff22",
   "metadata": {},
   "outputs": [],
   "source": [
    "annotator_genres = dataset[\"annotator_genre\"]"
   ]
  },
  {
   "cell_type": "markdown",
   "id": "ee680ffe",
   "metadata": {},
   "source": [
    "### Create a color palette"
   ]
  },
  {
   "cell_type": "code",
   "execution_count": null,
   "id": "938cfe7f-97d8-49f9-b1b6-8140104bff35",
   "metadata": {},
   "outputs": [],
   "source": [
    "# Create a color palette for the annotated genres\n",
    "palette = sns.color_palette(\"hsv\", 4)  # 4 unique colors for 4 genres\n",
    "color_map = {i: palette[i] for i in range(4)}\n",
    "\n",
    "# Map genres to colors\n",
    "colors = [color_map[annotator_genre] for annotator_genre in annotator_genres]"
   ]
  },
  {
   "cell_type": "markdown",
   "id": "58cfe625-59f4-4bbd-9d92-1622d16b1966",
   "metadata": {},
   "source": [
    "### Plot the result"
   ]
  },
  {
   "cell_type": "code",
   "execution_count": null,
   "id": "4e64e720",
   "metadata": {},
   "outputs": [],
   "source": [
    "plt.figure(figsize=(6, 6))\n",
    "scatter = plt.scatter(two_d[:, 0], two_d[:, 1], c=colors, marker='o')\n",
    "plt.title('t-SNE reduced embeddings by Genre')\n",
    "plt.xlabel('Feature 1')\n",
    "plt.ylabel('Feature 2')\n",
    "plt.grid(True)\n",
    "\n",
    "# Create a legend\n",
    "legend_handles = [plt.Line2D([0], [0], marker='o', color='w', markerfacecolor=color_map[i], markersize=10, label=f'Genre {i}') for i in range(4)]\n",
    "plt.legend(handles=legend_handles, title=\"Genres\")\n",
    "\n",
    "# Add interactive hover text\n",
    "cursor = mplcursors.cursor(scatter, hover=True)\n",
    "cursor.connect(\"add\", lambda sel: sel.annotation.set_text(titles[sel.index]))\n",
    "\n",
    "plt.show()"
   ]
  },
  {
   "cell_type": "markdown",
   "id": "4db66340-5f46-4fd7-863b-282d5b73c4cf",
   "metadata": {},
   "source": [
    "## Exercises"
   ]
  },
  {
   "cell_type": "markdown",
   "id": "0135e273-6fc0-44c1-b4e6-83918c8be9c4",
   "metadata": {},
   "source": [
    "- Try displaying another field besides the Title when hovering\n",
    "- Swap out the annotator_genres for another grouping"
   ]
  },
  {
   "cell_type": "markdown",
   "id": "6c7f73fd-3b8d-41a0-878f-e19a46dfe375",
   "metadata": {},
   "source": [
    "## Discussion Questions"
   ]
  },
  {
   "cell_type": "markdown",
   "id": "d2fb5024-ee73-4790-bf55-8e9023a55cb3",
   "metadata": {},
   "source": [
    "- Does it seem like too many embeddings for one plot?\n",
    "- This example is slightly contrived, but can you envision ways that visualizing your data would be beneficial?\n",
    "- How did the pickle file help out here?"
   ]
  }
 ],
 "metadata": {
  "kernelspec": {
   "display_name": "Python 3 (ipykernel)",
   "language": "python",
   "name": "python3"
  },
  "language_info": {
   "codemirror_mode": {
    "name": "ipython",
    "version": 3
   },
   "file_extension": ".py",
   "mimetype": "text/x-python",
   "name": "python",
   "nbconvert_exporter": "python",
   "pygments_lexer": "ipython3",
   "version": "3.10.10"
  }
 },
 "nbformat": 4,
 "nbformat_minor": 5
}
