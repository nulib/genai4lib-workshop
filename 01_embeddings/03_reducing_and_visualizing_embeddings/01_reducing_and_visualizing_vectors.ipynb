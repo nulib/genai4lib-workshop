{
 "cells": [
  {
   "cell_type": "markdown",
   "id": "f95bec82-ccf9-4e21-96c5-5e58bba2bdb5",
   "metadata": {},
   "source": [
    "# Reducing and Visualizing Vectors\n",
    "\n",
    "We're going to load pictures of 20 different objects taken from 71 different angles each into arrays of pixels. The images have been preprocessed to remove backgrounds and converted to grayscale.\n",
    "\n",
    "![duck](../../../shared/coil-20/coil-20-proc/obj1__0.png) ![duck](../../../shared/coil-20/coil-20-proc/obj1__10.png) ![duck](../../../shared/coil-20/coil-20-proc/obj1__20.png) ![duck](../../../shared/coil-20/coil-20-proc/obj1__30.png) ![duck](../../../shared/coil-20/coil-20-proc/obj1__40.png) ![duck](../../../shared/coil-20/coil-20-proc/obj1__50.png) ![duck](../../../shared/coil-20/coil-20-proc/obj1__60.png) ![duck](../../../shared/coil-20/coil-20-proc/obj1__70.png)"
   ]
  },
  {
   "cell_type": "markdown",
   "id": "dc762e07",
   "metadata": {},
   "source": [
    "## Import required modules"
   ]
  },
  {
   "cell_type": "code",
   "execution_count": null,
   "id": "70f47442-7397-43c7-b597-32486f92dc56",
   "metadata": {
    "editable": true,
    "slideshow": {
     "slide_type": ""
    },
    "tags": []
   },
   "outputs": [],
   "source": [
    "%matplotlib widget\n",
    "import os\n",
    "import numpy as np\n",
    "from sklearn.manifold import TSNE\n",
    "from matplotlib import pyplot as plt\n",
    "from PIL import Image"
   ]
  },
  {
   "cell_type": "markdown",
   "id": "81c82b76-2eb4-4807-94b2-6d7037a243a2",
   "metadata": {},
   "source": [
    "## Define helper function to load images"
   ]
  },
  {
   "cell_type": "code",
   "execution_count": null,
   "id": "682e1eeb-dbd0-4c22-a5ba-5d113643987d",
   "metadata": {},
   "outputs": [],
   "source": [
    "def load_images(folder_path):\n",
    "    images = []\n",
    "    labels = []\n",
    "    for filename in sorted(os.listdir(folder_path)):\n",
    "        if filename.endswith('.png'):\n",
    "            img = Image.open(os.path.join(folder_path, filename)).convert('L')  # Convert to grayscale\n",
    "            img_array = np.array(img).flatten()  # Flatten the image\n",
    "            images.append(img_array)\n",
    "            label = int(filename.split(\"__\")[0].split(\"obj\")[1])  # Extract object number from filename\n",
    "            labels.append(label)\n",
    "    return np.array(images), np.array(labels)"
   ]
  },
  {
   "cell_type": "markdown",
   "id": "472253e7-aefe-4428-be32-552d72cf46db",
   "metadata": {},
   "source": [
    "## Load the images"
   ]
  },
  {
   "cell_type": "code",
   "execution_count": null,
   "id": "0f549feb-bd34-4017-b004-dcd9b56ab035",
   "metadata": {
    "editable": true,
    "slideshow": {
     "slide_type": ""
    },
    "tags": []
   },
   "outputs": [],
   "source": [
    "folder_path = '../../../shared/coil-20/coil-20-proc'\n",
    "images, labels = load_images(folder_path)"
   ]
  },
  {
   "cell_type": "markdown",
   "id": "0cef3333-5a07-4c60-a527-beec13a5b33c",
   "metadata": {},
   "source": [
    "## Display the number of dimensions in a single image vector"
   ]
  },
  {
   "cell_type": "code",
   "execution_count": null,
   "id": "6a08062c-1871-4ed6-bffb-0d8088551c0e",
   "metadata": {},
   "outputs": [],
   "source": [
    "print(len(images[0]))"
   ]
  },
  {
   "cell_type": "markdown",
   "id": "60ce2743-c161-4e7f-b107-0231c1ac97eb",
   "metadata": {},
   "source": [
    "## Two-Dimensional Plot\n",
    "### Reduce to two dimensions using t-SNE"
   ]
  },
  {
   "cell_type": "code",
   "execution_count": null,
   "id": "a4786eab-6341-4407-825d-f63589e1f292",
   "metadata": {},
   "outputs": [],
   "source": [
    "tsne = TSNE(n_components=2, perplexity=4, random_state=0)\n",
    "X_2d = tsne.fit_transform(images)"
   ]
  },
  {
   "cell_type": "markdown",
   "id": "2e217a10-13ea-4eea-a53a-ba3e9ebd8991",
   "metadata": {},
   "source": [
    "### Plot the result"
   ]
  },
  {
   "cell_type": "code",
   "execution_count": null,
   "id": "938da3e6-0588-417a-854b-28ed9da9aa1c",
   "metadata": {
    "editable": true,
    "slideshow": {
     "slide_type": ""
    },
    "tags": []
   },
   "outputs": [],
   "source": [
    "plt.figure(figsize=(6, 5))\n",
    "scatter = plt.scatter(X_2d[:, 0], X_2d[:, 1], c=labels, cmap='viridis', edgecolor='k', s=60, alpha=0.6)\n",
    "plt.colorbar(scatter)\n",
    "plt.title('t-SNE visualization of COIL-20 dataset')\n",
    "plt.show()"
   ]
  },
  {
   "cell_type": "markdown",
   "id": "ee03a8f5-e396-44f4-aa80-18998d96aa95",
   "metadata": {},
   "source": [
    "## Three-Dimensional Plot\n",
    "### Reduce to three dimensions using t-SNE"
   ]
  },
  {
   "cell_type": "code",
   "execution_count": null,
   "id": "eee69ba2-92bd-4cc6-9d87-11b64932bade",
   "metadata": {},
   "outputs": [],
   "source": [
    "tsne = TSNE(n_components=3, perplexity=4, random_state=0)\n",
    "X_3d = tsne.fit_transform(images)"
   ]
  },
  {
   "cell_type": "markdown",
   "id": "e16a70e9-0c8b-46d6-a90b-bcea838844f2",
   "metadata": {},
   "source": [
    "### Plot the result"
   ]
  },
  {
   "cell_type": "code",
   "execution_count": null,
   "id": "f11f1cd4-0ef3-40dd-bea4-3e19d262eb37",
   "metadata": {},
   "outputs": [],
   "source": [
    "fig = plt.figure(figsize=(6, 5))\n",
    "ax = fig.add_subplot(projection='3d')\n",
    "scatter = ax.scatter(X_3d[:, 0], X_3d[:, 1], X_3d[:, 2], c=labels, cmap='viridis', edgecolor='k', s=60, alpha=0.6)\n",
    "plt.colorbar(scatter)\n",
    "plt.title('t-SNE visualization of COIL-20 dataset')\n",
    "plt.show()"
   ]
  },
  {
   "cell_type": "code",
   "execution_count": null,
   "id": "8b0c3249-fbc8-4871-9947-84fe99425590",
   "metadata": {},
   "outputs": [],
   "source": []
  }
 ],
 "metadata": {
  "kernelspec": {
   "display_name": "Python 3 (ipykernel)",
   "language": "python",
   "name": "python3"
  },
  "language_info": {
   "codemirror_mode": {
    "name": "ipython",
    "version": 3
   },
   "file_extension": ".py",
   "mimetype": "text/x-python",
   "name": "python",
   "nbconvert_exporter": "python",
   "pygments_lexer": "ipython3",
   "version": "3.10.10"
  }
 },
 "nbformat": 4,
 "nbformat_minor": 5
}
