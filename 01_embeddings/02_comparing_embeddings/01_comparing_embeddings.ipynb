{
 "cells": [
  {
   "cell_type": "markdown",
   "id": "ed8b5974-7dfb-47f4-a66d-c22f30147253",
   "metadata": {},
   "source": [
    "![Generating Embeddings](../../images/headings/01_embeddings_02_01_comparing_embeddings.png)"
   ]
  },
  {
   "cell_type": "markdown",
   "id": "c0ae879a-5a3c-476e-893c-db8d055ca5d1",
   "metadata": {},
   "source": [
    "# Comparing Embeddings"
   ]
  },
  {
   "cell_type": "markdown",
   "id": "936369db-3189-454d-bab4-0d8bb84124e8",
   "metadata": {},
   "source": [
    "## Configure embedding model"
   ]
  },
  {
   "cell_type": "markdown",
   "id": "b132e3f8-cbdd-4b4e-841c-6fd90fbe6da3",
   "metadata": {},
   "source": [
    "Available model IDs hosted in Bedrock include:\n",
    "\n",
    "- `cohere.embed-english-v3`\n",
    "- `cohere.embed-multilingual-v3`\n",
    "- `amazon.titan-embed-text-v1`\n",
    "- `amazon.titan-embed-text-v2:0`\n",
    "- `amazon.titan-embed-image-v1`"
   ]
  },
  {
   "cell_type": "code",
   "execution_count": null,
   "id": "7c14579f-8100-4a2d-86e8-79d69b8df57f",
   "metadata": {},
   "outputs": [],
   "source": [
    "from langchain_aws.embeddings import BedrockEmbeddings\n",
    "model = BedrockEmbeddings(model_id='amazon.titan-embed-text-v2:0')"
   ]
  },
  {
   "cell_type": "markdown",
   "id": "b325ae73-7d12-4350-b957-5a6ce9f70c18",
   "metadata": {},
   "source": [
    "## Generate embeddings for documents"
   ]
  },
  {
   "cell_type": "code",
   "execution_count": null,
   "id": "5465f384-6e9b-48c3-8d82-e5aceb2b1ea6",
   "metadata": {
    "scrolled": true
   },
   "outputs": [],
   "source": [
    "sentences = ['That is a happy person', '그 사람은 행복한 사람이야', 'That is a very happy person', 'These are some fairly unhappy people']\n",
    "embeddings = model.embed_documents(sentences)\n",
    "print(embeddings)"
   ]
  },
  {
   "cell_type": "markdown",
   "id": "0d256986-9097-4b1d-9816-6a23bf399430",
   "metadata": {},
   "source": [
    "## Use cosine similarity to compare embeddings"
   ]
  },
  {
   "cell_type": "markdown",
   "id": "36323d7a-1d82-4d6d-b8b3-bf22444af0bd",
   "metadata": {},
   "source": [
    "### Generate cosine similarities between each pair of embeddings"
   ]
  },
  {
   "cell_type": "code",
   "execution_count": null,
   "id": "a7095bd9-0aca-423d-adcd-18684443a1c9",
   "metadata": {},
   "outputs": [],
   "source": [
    "import itertools\n",
    "from langchain_community.utils.math import cosine_similarity\n",
    "\n",
    "results = [\n",
    "    { 'items': [a, b], 'similarity': cosine_similarity([embeddings[a]], [embeddings[b]])[0][0] }\n",
    "    for a, b in itertools.combinations(range(len(sentences)), 2)\n",
    "]"
   ]
  },
  {
   "cell_type": "markdown",
   "id": "d13637fd-50a4-48e6-a856-c758bae32adc",
   "metadata": {},
   "source": [
    "### Sort results by similarity (high to low)"
   ]
  },
  {
   "cell_type": "code",
   "execution_count": null,
   "id": "fc0cdbba-272c-4d03-bb99-1f22e7978ddd",
   "metadata": {},
   "outputs": [],
   "source": [
    "results.sort(key=lambda x: x['similarity'], reverse=True)"
   ]
  },
  {
   "cell_type": "markdown",
   "id": "41748f90-7d5d-4df8-ac39-5332e5847ff5",
   "metadata": {},
   "source": [
    "### Display results"
   ]
  },
  {
   "cell_type": "code",
   "execution_count": null,
   "id": "286c480d-6203-4430-a939-6600e12fd8cc",
   "metadata": {},
   "outputs": [],
   "source": [
    "for result in results:\n",
    "    a, b = result['items']\n",
    "    similarity = result['similarity']\n",
    "    print(f'Similarity between \"{sentences[a]}\" and \"{sentences[b]}\": {similarity}')"
   ]
  },
  {
   "cell_type": "markdown",
   "id": "1443b39c",
   "metadata": {},
   "source": [
    "## Exercises\n",
    "\n",
    "- Try using different sentences as input, with the goal of getting a sense for making comparisons between embeddings\n",
    "- Try using different models to compare the same sentences to see how embeddings and similarities differ between models"
   ]
  },
  {
   "cell_type": "markdown",
   "id": "9d10c628-51a5-4606-864e-17269d0f183f",
   "metadata": {},
   "source": [
    "## Discussion Questions\n",
    "\n",
    "- Do you notice any differences? If so, why do you think that is?"
   ]
  }
 ],
 "metadata": {
  "kernelspec": {
   "display_name": "Python 3 (ipykernel)",
   "language": "python",
   "name": "python3"
  },
  "language_info": {
   "codemirror_mode": {
    "name": "ipython",
    "version": 3
   },
   "file_extension": ".py",
   "mimetype": "text/x-python",
   "name": "python",
   "nbconvert_exporter": "python",
   "pygments_lexer": "ipython3",
   "version": "3.10.10"
  }
 },
 "nbformat": 4,
 "nbformat_minor": 5
}
