{
 "cells": [
  {
   "cell_type": "code",
   "execution_count": 4,
   "id": "5465f384-6e9b-48c3-8d82-e5aceb2b1ea6",
   "metadata": {},
   "outputs": [
    {
     "name": "stdout",
     "output_type": "stream",
     "text": [
      "[[ 0.23888057 -0.14092064 -0.22524145 ...  0.1500071   0.06842493\n",
      "  -0.55839527]\n",
      " [ 0.05154587  0.04116409  0.14478017 ... -0.11266184  0.23965885\n",
      "  -0.80651927]]\n"
     ]
    }
   ],
   "source": [
    "from sentence_transformers import SentenceTransformer\n",
    "\n",
    "model = SentenceTransformer('Alibaba-NLP/gte-large-en-v1.5', trust_remote_code=True)\n",
    "\n",
    "sentences = ['That is a happy person', 'That is a very happy person']\n",
    "embeddings = model.encode(sentences)\n",
    "print(embeddings)"
   ]
  },
  {
   "cell_type": "code",
   "execution_count": 5,
   "id": "a7095bd9-0aca-423d-adcd-18684443a1c9",
   "metadata": {},
   "outputs": [
    {
     "name": "stdout",
     "output_type": "stream",
     "text": [
      "0.9768850803375244\n"
     ]
    }
   ],
   "source": [
    "from sentence_transformers.util import cos_sim\n",
    "\n",
    "print(cos_sim(embeddings[0], embeddings[1])[0][0].item())"
   ]
  },
  {
   "cell_type": "code",
   "execution_count": 6,
   "id": "18c650a4-1a25-4cae-a468-aed9d2728a0c",
   "metadata": {},
   "outputs": [],
   "source": [
    "import math\n",
    "\n",
    "def our_fancy_cosine_similarity(embedding1, embedding2):\n",
    "    \"\"\"\n",
    "    Calculates the cosine similarity between two embeddings.\n",
    "    \n",
    "    Args:\n",
    "        embedding1 (list): A list of floats representing the first embedding.\n",
    "        embedding2 (list): A list of floats representing the second embedding.\n",
    "        \n",
    "    Returns:\n",
    "        float: The cosine similarity between the two embeddings.\n",
    "    \"\"\"\n",
    "    # Make sure the embeddings have the same length\n",
    "    if len(embedding1) != len(embedding2):\n",
    "        raise ValueError(\"Embeddings must have the same length.\")\n",
    "    \n",
    "    # Calculate the dot product of the two embeddings\n",
    "    dot_product = sum(a * b for a, b in zip(embedding1, embedding2))\n",
    "    \n",
    "    # Calculate the L2 norm (Euclidean length) of each embedding\n",
    "    norm1 = math.sqrt(sum(x ** 2 for x in embedding1))\n",
    "    norm2 = math.sqrt(sum(x ** 2 for x in embedding2))\n",
    "    \n",
    "    # Calculate the cosine similarity\n",
    "    if norm1 == 0 or norm2 == 0:\n",
    "        # If either norm is zero, the cosine similarity is undefined\n",
    "        return 0\n",
    "    else:\n",
    "        return dot_product / (norm1 * norm2)"
   ]
  },
  {
   "cell_type": "code",
   "execution_count": 7,
   "id": "dcd8577d-dbc6-48c6-91c0-81accf8df9ec",
   "metadata": {},
   "outputs": [
    {
     "name": "stdout",
     "output_type": "stream",
     "text": [
      "0.9768851434566402\n"
     ]
    }
   ],
   "source": [
    "print(our_fancy_cosine_similarity(embeddings[0], embeddings[1]))"
   ]
  },
  {
   "cell_type": "markdown",
   "id": "1443b39c",
   "metadata": {},
   "source": [
    "## Exercises:\n",
    "\n",
    "- Try using different sentences as input, with the goal of getting a sense for making comparisons between embeddings\n",
    "\n",
    "## Discussion Questions:\n",
    "\n",
    "- Do you notice any differences? If so, why do you think that is?"
   ]
  }
 ],
 "metadata": {
  "kernelspec": {
   "display_name": "Python 3 (ipykernel)",
   "language": "python",
   "name": "python3"
  },
  "language_info": {
   "codemirror_mode": {
    "name": "ipython",
    "version": 3
   },
   "file_extension": ".py",
   "mimetype": "text/x-python",
   "name": "python",
   "nbconvert_exporter": "python",
   "pygments_lexer": "ipython3",
   "version": "3.10.14"
  }
 },
 "nbformat": 4,
 "nbformat_minor": 5
}
