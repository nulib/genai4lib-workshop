{
 "cells": [
  {
   "cell_type": "markdown",
   "metadata": {},
   "source": [
    "# Multimodal Embedding Models"
   ]
  },
  {
   "cell_type": "code",
   "execution_count": 1,
   "metadata": {},
   "outputs": [],
   "source": [
    "import io\n",
    "import base64\n",
    "import boto3\n",
    "import json\n",
    "import os\n",
    "from PIL import Image\n",
    "from typing import List"
   ]
  },
  {
   "cell_type": "code",
   "execution_count": 2,
   "metadata": {},
   "outputs": [],
   "source": [
    "session = boto3.Session()\n",
    "client = session.client(\"bedrock-runtime\")"
   ]
  },
  {
   "cell_type": "code",
   "execution_count": 9,
   "metadata": {},
   "outputs": [],
   "source": [
    "def readFileAsBase64(file_path):\n",
    "    with Image.open(file_path) as img:\n",
    "        img = img.convert(\"RGB\")  # Convert to RGB mode\n",
    "        resized_img = img.resize((200,200))\n",
    "        buffered = io.BytesIO()\n",
    "        resized_img.save(buffered, format=\"JPEG\")\n",
    "        base64_string = base64.b64encode(buffered.getvalue()).decode(\"utf8\")\n",
    "    return base64_string\n",
    "\n",
    "def construct_bedrock_body(base64_string: str) -> str:\n",
    "    \"\"\"Construct the request body for the Bedrock API.\"\"\"\n",
    "    return json.dumps(\n",
    "        {\n",
    "            \"inputImage\": base64_string,\n",
    "            \"embeddingConfig\": {\"outputEmbeddingLength\": 1024},\n",
    "        }\n",
    "    )\n",
    "\n",
    "def get_image_embedding(file_path: str) -> List[float]:\n",
    "    \"\"\"Get image embedding from Bedrock API.\"\"\"\n",
    "    base64_string = readFileAsBase64(file_path)\n",
    "    body = construct_bedrock_body(base64_string)\n",
    "\n",
    "    try:\n",
    "        response = client.invoke_model(\n",
    "            body=body,\n",
    "            modelId=\"amazon.titan-embed-image-v1\",\n",
    "            accept=\"application/json\",\n",
    "            contentType=\"application/json\",\n",
    "        )\n",
    "\n",
    "        response_body = json.loads(response.get(\"body\").read())\n",
    "        return response_body[\"embedding\"]\n",
    "    except Exception as e:\n",
    "        raise ValueError(f\"Error raised by image embedding endpoint: {e}\")"
   ]
  },
  {
   "cell_type": "code",
   "execution_count": 13,
   "metadata": {},
   "outputs": [],
   "source": [
    "embedding = get_image_embedding(\"../../images/mteb_leaderboard.png\")"
   ]
  },
  {
   "cell_type": "code",
   "execution_count": 15,
   "metadata": {},
   "outputs": [
    {
     "name": "stdout",
     "output_type": "stream",
     "text": [
      "1024\n"
     ]
    }
   ],
   "source": [
    "print(len(embedding))"
   ]
  }
 ],
 "metadata": {
  "kernelspec": {
   "display_name": "Python 3 (ipykernel)",
   "language": "python",
   "name": "python3"
  },
  "language_info": {
   "codemirror_mode": {
    "name": "ipython",
    "version": 3
   },
   "file_extension": ".py",
   "mimetype": "text/x-python",
   "name": "python",
   "nbconvert_exporter": "python",
   "pygments_lexer": "ipython3",
   "version": "3.10.10"
  }
 },
 "nbformat": 4,
 "nbformat_minor": 4
}
