{
 "cells": [
  {
   "cell_type": "markdown",
   "metadata": {},
   "source": [
    "# Multimodal Embedding Models"
   ]
  },
  {
   "cell_type": "markdown",
   "metadata": {},
   "source": [
    "## Setup"
   ]
  },
  {
   "cell_type": "code",
   "execution_count": null,
   "metadata": {},
   "outputs": [],
   "source": [
    "import io\n",
    "import base64\n",
    "import boto3\n",
    "import json\n",
    "import os\n",
    "from PIL import Image\n",
    "from typing import List"
   ]
  },
  {
   "cell_type": "markdown",
   "metadata": {},
   "source": [
    "### Define an AWS Bedrock client for making API calls"
   ]
  },
  {
   "cell_type": "code",
   "execution_count": null,
   "metadata": {},
   "outputs": [],
   "source": [
    "session = boto3.Session()\n",
    "\n",
    "# Note there is not any client configuration beyond the name of the service because of the environment variables set up in this notebook environment. How nice!\n",
    "client = session.client(\"bedrock-runtime\")"
   ]
  },
  {
   "cell_type": "markdown",
   "metadata": {},
   "source": [
    "## Define helper methods for calling AWS Bedrock"
   ]
  },
  {
   "cell_type": "markdown",
   "metadata": {},
   "source": [
    "### adapted from: [Classification with Image Embedding with AWS Bedrock Titan Multimodal and Vector DB](https://medium.com/@chikim79/classification-with-image-embedding-with-aws-bedrock-titan-multimodal-and-vector-db-5966cc456582)"
   ]
  },
  {
   "cell_type": "code",
   "execution_count": null,
   "metadata": {},
   "outputs": [],
   "source": [
    "def readFileAsBase64(file_path):\n",
    "    with Image.open(file_path) as img:\n",
    "        img = img.convert(\"RGB\")  # Convert to RGB mode\n",
    "        resized_img = img.resize((200,200)) # Resize the image so API calls don't fail\n",
    "        buffered = io.BytesIO()\n",
    "        resized_img.save(buffered, format=\"JPEG\")\n",
    "        base64_string = base64.b64encode(buffered.getvalue()).decode(\"utf8\")\n",
    "    return base64_string\n",
    "\n",
    "def construct_bedrock_body(base64_string: str) -> str:\n",
    "    \"\"\"Construct the request body for the Bedrock API.\"\"\"\n",
    "    return json.dumps(\n",
    "        {\n",
    "            \"inputImage\": base64_string,\n",
    "            \"embeddingConfig\": {\"outputEmbeddingLength\": 1024},\n",
    "        }\n",
    "    )\n",
    "\n",
    "def get_image_embedding(file_path: str) -> List[float]:\n",
    "    \"\"\"Get image embedding from Bedrock API.\"\"\"\n",
    "    base64_string = readFileAsBase64(file_path)\n",
    "    body = construct_bedrock_body(base64_string)\n",
    "\n",
    "    try:\n",
    "        response = client.invoke_model(\n",
    "            body=body,\n",
    "            modelId=\"amazon.titan-embed-image-v1\",\n",
    "            accept=\"application/json\",\n",
    "            contentType=\"application/json\",\n",
    "        )\n",
    "\n",
    "        response_body = json.loads(response.get(\"body\").read())\n",
    "        return response_body[\"embedding\"]\n",
    "    except Exception as e:\n",
    "        raise ValueError(f\"Error raised by image embedding endpoint: {e}\")"
   ]
  },
  {
   "cell_type": "markdown",
   "metadata": {},
   "source": [
    "## Generate the embedding from a sample image"
   ]
  },
  {
   "cell_type": "code",
   "execution_count": null,
   "metadata": {},
   "outputs": [],
   "source": [
    "embedding = get_image_embedding(\"../../images/mteb_leaderboard.png\")"
   ]
  },
  {
   "cell_type": "code",
   "execution_count": null,
   "metadata": {},
   "outputs": [],
   "source": [
    "print(len(embedding))"
   ]
  },
  {
   "cell_type": "markdown",
   "metadata": {},
   "source": [
    "## Exercises"
   ]
  },
  {
   "cell_type": "markdown",
   "metadata": {},
   "source": [
    "- Take what you've learned from `embeddings/01_comparing_embeddings` and experiment with comparing emeddings images and/or text inputs."
   ]
  },
  {
   "cell_type": "markdown",
   "metadata": {},
   "source": [
    "### Discussion Questions"
   ]
  },
  {
   "cell_type": "markdown",
   "metadata": {},
   "source": [
    "- Images and text \"living\" in the same semantic space is powerful! What are some of the implications for adding multimodal capability to an embedding model?\n",
    "- Search around the Internet for other modalities that people are talking about. Do any other modalities look intriguing for your collections or materials?"
   ]
  }
 ],
 "metadata": {
  "kernelspec": {
   "display_name": "Python 3 (ipykernel)",
   "language": "python",
   "name": "python3"
  },
  "language_info": {
   "codemirror_mode": {
    "name": "ipython",
    "version": 3
   },
   "file_extension": ".py",
   "mimetype": "text/x-python",
   "name": "python",
   "nbconvert_exporter": "python",
   "pygments_lexer": "ipython3",
   "version": "3.10.10"
  }
 },
 "nbformat": 4,
 "nbformat_minor": 4
}
